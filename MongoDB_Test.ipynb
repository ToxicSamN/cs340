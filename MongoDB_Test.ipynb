{
 "cells": [
  {
   "cell_type": "code",
   "execution_count": 1,
   "metadata": {},
   "outputs": [],
   "source": [
    "\n",
    "from animal_shelter import AnimalShelter\n"
   ]
  },
  {
   "cell_type": "code",
   "execution_count": null,
   "outputs": [],
   "source": [
    "# Initialize database connection.\n",
    "# must provide all five parameters\n",
    "dbo = AnimalShelter(\"aacuser\", \"password\", \"localhost\", 52170, \"AAC\")\n"
   ],
   "metadata": {
    "collapsed": false,
    "pycharm": {
     "name": "#%%\n"
    }
   }
  },
  {
   "cell_type": "code",
   "execution_count": null,
   "outputs": [],
   "source": [
    "# Create a new document definition\n",
    "new_doc = {\n",
    "    '1': 9999,\n",
    "    'age_upon_outcome': '2 months',\n",
    "    'animal_id': 'SammyTest',\n",
    "    'animal_type': 'Dog',\n",
    "    'breed': 'Newfoundland/Australian Cattle Dog',\n",
    "    'color': 'Black/White',\n",
    "    'date_of_birth': '2013-08-16',\n",
    "    'datetime': '2013-10-20 17:46:00',\n",
    "    'monthyear': '2013-10-20T17:46:00',\n",
    "    'name': 'Flynn', 'outcome_subtype': '',\n",
    "    'outcome_type': 'Adoption',\n",
    "    'sex_upon_outcome': 'Neutered Male',\n",
    "    'location_lat': 30.3822258965608,\n",
    "    'location_long': -97.3215567924164,\n",
    "    'age_upon_outcome_in_weeks': 9.39146825396825\n",
    "}\n",
    "\n",
    "# create this new docuemnt in the database\n",
    "result = dbo.create(new_doc)\n",
    "\n",
    "# result will be true if created or false if failed creation\n",
    "if result:\n",
    "    # find the document that was just created to validate the document was in fact created\n",
    "    for doc in dbo.read({\"animal_id\": \"SammyTest\"}):\n",
    "        print(doc)\n",
    "    print(\"document creation was successful\")\n",
    "\n",
    "else:\n",
    "    print(\"test failed creating 1 new doc\")"
   ],
   "metadata": {
    "collapsed": false,
    "pycharm": {
     "name": "#%%\n"
    }
   }
  },
  {
   "cell_type": "code",
   "execution_count": null,
   "outputs": [],
   "source": [
    "# the read method will return a list of dicts and will require looping through the results\n",
    "for doc in dbo.read({\"animal_id\": \"SammyTest\"}):\n",
    "    print(doc)\n",
    "    print(\"document read success\")"
   ],
   "metadata": {
    "collapsed": false,
    "pycharm": {
     "name": "#%%\n"
    }
   }
  },
  {
   "cell_type": "code",
   "execution_count": null,
   "outputs": [],
   "source": [
    "# delete method is strictly a true/false call.\n",
    "if dbo.delete({\"animal_id\": \"SammyTest\"}):\n",
    "    print(\"delete record success\")\n",
    "else:\n",
    "    print(\"delete record failed\")"
   ],
   "metadata": {
    "collapsed": false,
    "pycharm": {
     "name": "#%%\n"
    }
   }
  },
  {
   "cell_type": "code",
   "execution_count": 2,
   "metadata": {},
   "outputs": [],
   "source": []
  },
  {
   "cell_type": "code",
   "execution_count": 6,
   "metadata": {
    "scrolled": true
   },
   "outputs": [
    {
     "name": "stdout",
     "output_type": "stream",
     "text": [
      "{'_id': ObjectId('60b23a6f03cb9782f2476385'), '1': 9999, 'age_upon_outcome': '2 months', 'animal_id': 'SammyTest', 'animal_type': 'Dog', 'breed': 'Newfoundland/Australian Cattle Dog', 'color': 'Black/White', 'date_of_birth': '2013-08-16', 'datetime': '2013-10-20 17:46:00', 'monthyear': '2013-10-20T17:46:00', 'name': 'Flynn', 'outcome_subtype': '', 'outcome_type': 'Adoption', 'sex_upon_outcome': 'Neutered Male', 'location_lat': 30.3822258965608, 'location_long': -97.3215567924164, 'age_upon_outcome_in_weeks': 9.39146825396825}\n",
      "document creation was successful\n"
     ]
    }
   ],
   "source": [
    "# Create a new document definition\n",
    "new_doc = {\n",
    "    '1': 9999,\n",
    "    'age_upon_outcome': '2 months',\n",
    "    'animal_id': 'SammyTest',\n",
    "    'animal_type': 'Dog',\n",
    "    'breed': 'Newfoundland/Australian Cattle Dog',\n",
    "    'color': 'Black/White',\n",
    "    'date_of_birth': '2013-08-16',\n",
    "    'datetime': '2013-10-20 17:46:00',\n",
    "    'monthyear': '2013-10-20T17:46:00',\n",
    "    'name': 'Flynn', 'outcome_subtype': '',\n",
    "    'outcome_type': 'Adoption',\n",
    "    'sex_upon_outcome': 'Neutered Male',\n",
    "    'location_lat': 30.3822258965608,\n",
    "    'location_long': -97.3215567924164,\n",
    "    'age_upon_outcome_in_weeks': 9.39146825396825\n",
    "}\n",
    "\n",
    "# create this new docuemnt in the database\n",
    "result = dbo.create(new_doc)\n",
    "\n",
    "# result will be true if created or false if failed creation\n",
    "if result:\n",
    "    # find the document that was just created to validate the document was in fact created\n",
    "    for doc in dbo.read({\"animal_id\": \"SammyTest\"}):\n",
    "        print(doc)\n",
    "    print(\"document creation was successful\")\n",
    "\n",
    "else:\n",
    "    print(\"test failed creating 1 new doc\")"
   ]
  },
  {
   "cell_type": "code",
   "execution_count": 4,
   "metadata": {},
   "outputs": [
    {
     "name": "stdout",
     "output_type": "stream",
     "text": [
      "{'_id': ObjectId('60b2384103cb9782f2476384'), '1': 9999, 'age_upon_outcome': '2 months', 'animal_id': 'SammyTest', 'animal_type': 'Dog', 'breed': 'Newfoundland/Australian Cattle Dog', 'color': 'Black/White', 'date_of_birth': '2013-08-16', 'datetime': '2013-10-20 17:46:00', 'monthyear': '2013-10-20T17:46:00', 'name': 'Flynn', 'outcome_subtype': '', 'outcome_type': 'Adoption', 'sex_upon_outcome': 'Neutered Male', 'location_lat': 30.3822258965608, 'location_long': -97.3215567924164, 'age_upon_outcome_in_weeks': 9.39146825396825}\n",
      "document read success\n"
     ]
    }
   ],
   "source": [
    "# the read method will return a list of dicts and will require looping through the results\n",
    "for doc in dbo.read({\"animal_id\": \"SammyTest\"}):\n",
    "    print(doc)\n",
    "    print(\"document read success\")"
   ]
  },
  {
   "cell_type": "code",
   "execution_count": 7,
   "metadata": {},
   "outputs": [
    {
     "name": "stdout",
     "output_type": "stream",
     "text": [
      "delete record success\n"
     ]
    }
   ],
   "source": [
    "# delete method is strictly a true/false call.\n",
    "if dbo.delete({\"animal_id\": \"SammyTest\"}):\n",
    "    print(\"delete record success\")\n",
    "else:\n",
    "    print(\"delete record failed\")"
   ]
  },
  {
   "cell_type": "code",
   "execution_count": null,
   "metadata": {},
   "outputs": [],
   "source": []
  }
 ],
 "metadata": {
  "kernelspec": {
   "display_name": "Python 3",
   "language": "python",
   "name": "python3"
  },
  "language_info": {
   "codemirror_mode": {
    "name": "ipython",
    "version": 3
   },
   "file_extension": ".py",
   "mimetype": "text/x-python",
   "name": "python",
   "nbconvert_exporter": "python",
   "pygments_lexer": "ipython3",
   "version": "3.6.9"
  }
 },
 "nbformat": 4,
 "nbformat_minor": 2
}
{
 "cells": [
  {
   "cell_type": "code",
   "execution_count": 1,
   "metadata": {},
   "outputs": [
    {
     "name": "stdout",
     "output_type": "stream",
     "text": [
      "document creation was successful\n",
      "{'_id': ObjectId('60b19cbecb559949f36868b6'), '1': 9999, 'age_upon_outcome': '2 months', 'animal_id': 'SammyTest', 'animal_type': 'Dog', 'breed': 'Newfoundland/Australian Cattle Dog', 'color': 'Black/White', 'date_of_birth': '2013-08-16', 'datetime': '2013-10-20 17:46:00', 'monthyear': '2013-10-20T17:46:00', 'name': 'Flynn', 'outcome_subtype': '', 'outcome_type': 'Adoption', 'sex_upon_outcome': 'Neutered Male', 'location_lat': 30.3822258965608, 'location_long': -97.3215567924164, 'age_upon_outcome_in_weeks': 9.39146825396825}\n",
      "document read success\n",
      "delete record success\n"
     ]
    }
   ],
   "source": [
    "from mongodb.animal_shelter import AnimalShelter\n",
    "import os\n",
    "\n",
    "dbo = AnimalShelter(\"aacuser\", \"password\", \"localhost\", 52170, \"AAC\")\n",
    "\n",
    "try:\n",
    "    new_doc = {\n",
    "        '1': 9999,\n",
    "        'age_upon_outcome': '2 months',\n",
    "        'animal_id': 'SammyTest',\n",
    "        'animal_type': 'Dog',\n",
    "        'breed': 'Newfoundland/Australian Cattle Dog',\n",
    "        'color': 'Black/White',\n",
    "        'date_of_birth': '2013-08-16',\n",
    "        'datetime': '2013-10-20 17:46:00',\n",
    "        'monthyear': '2013-10-20T17:46:00',\n",
    "        'name': 'Flynn', 'outcome_subtype': '',\n",
    "        'outcome_type': 'Adoption',\n",
    "        'sex_upon_outcome': 'Neutered Male',\n",
    "        'location_lat': 30.3822258965608,\n",
    "        'location_long': -97.3215567924164,\n",
    "        'age_upon_outcome_in_weeks': 9.39146825396825\n",
    "    }\n",
    "    result = dbo.create(new_doc)\n",
    "    if result:\n",
    "        print(\"document creation was successful\")\n",
    "\n",
    "    else:\n",
    "        print(\"test failed creating 1 new doc\")\n",
    "\n",
    "except BaseException as e:\n",
    "    print(f'suppressing CREATE exceptions right now\\n{e}')\n",
    "\n",
    "try:\n",
    "    for doc in dbo.read({\"animal_id\": \"SammyTest\"}):\n",
    "        print(doc)\n",
    "        print(\"document read success\")\n",
    "except NotImplementedError as e:\n",
    "    print(f'suppressing READ exceptions right now\\n{e}')\n",
    "\n",
    "# try:\n",
    "#    dbo.update({\"animal_id\": \"SammyTest\"},{})\n",
    "# except NotImplementedError as e:\n",
    "#    print(f'suppressing UPDATE exceptions right now\\n{e}')\n",
    "\n",
    "try:\n",
    "   if dbo.delete({\"animal_id\": \"SammyTest\"}):\n",
    "       print(\"delete record success\")\n",
    "   else:\n",
    "       print(\"delete record failed\")\n",
    "except NotImplementedError as e:\n",
    "   print(f'suppressing DELETE exceptions right now\\n{e}')\n",
    "\n"
   ]
  },
  {
   "cell_type": "code",
   "execution_count": null,
   "metadata": {},
   "outputs": [],
   "source": []
  }
 ],
 "metadata": {
  "kernelspec": {
   "display_name": "Python 3",
   "language": "python",
   "name": "python3"
  },
  "language_info": {
   "codemirror_mode": {
    "name": "ipython",
    "version": 3
   },
   "file_extension": ".py",
   "mimetype": "text/x-python",
   "name": "python",
   "nbconvert_exporter": "python",
   "pygments_lexer": "ipython3",
   "version": "3.6.9"
  }
 },
 "nbformat": 4,
 "nbformat_minor": 2
}